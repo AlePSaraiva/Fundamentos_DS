{
 "cells": [
  {
   "cell_type": "markdown",
   "id": "colonial-stanley",
   "metadata": {},
   "source": [
    "![PPGI_UFRJ](imagens/ppgi-ufrj.png)\n",
    "# <center>Fundamentos de Ciência de Dados - PPGI/UFRJ 2020.3</center>\n",
    "![PDF](imagens/pdf2.png)"
   ]
  },
  {
   "cell_type": "markdown",
   "id": "confident-moses",
   "metadata": {},
   "source": [
    "---\n",
    "[![DOI](https://zenodo.org/badge/335308405.svg)](https://zenodo.org/badge/latestdoi/335308405)"
   ]
  },
  {
   "cell_type": "markdown",
   "id": "industrial-jackson",
   "metadata": {},
   "source": [
    "# <center>Professores</center>\n",
    "\n",
    "|  **Sergio Serra**             |  **Jorge Zavaleta**              |\n",
    ":------------------------------:|:--------------------------------:|\n",
    " ![serra](imagens/serra.png) | ![Zavaleta](imagens/zavaleta.png)\n",
    "[serra@pet-si.ufrrj.br](mailto:serra@pet-si.ufrrj.br) | [zavaleta@pet-si.ufrrj.br](zavaleta@pet-si.ufrrj.br)"
   ]
  },
  {
   "cell_type": "markdown",
   "id": "static-empire",
   "metadata": {},
   "source": [
    "---\n",
    "#### <center>Fudamentos para Ciência Dados &copy; Copyright 2021, Sergio Serra & Jorge Zavaleta </center>"
   ]
  }
 ],
 "metadata": {
  "kernelspec": {
   "display_name": "Python 3",
   "language": "python",
   "name": "python3"
  },
  "language_info": {
   "codemirror_mode": {
    "name": "ipython",
    "version": 3
   },
   "file_extension": ".py",
   "mimetype": "text/x-python",
   "name": "python",
   "nbconvert_exporter": "python",
   "pygments_lexer": "ipython3",
   "version": "3.8.5"
  }
 },
 "nbformat": 4,
 "nbformat_minor": 5
}
