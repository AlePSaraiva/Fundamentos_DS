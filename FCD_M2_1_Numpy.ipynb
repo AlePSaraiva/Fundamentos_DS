{
 "cells": [
  {
   "cell_type": "markdown",
   "metadata": {},
   "source": [
    "![PPGI_UFRJ](imagens/ppgi-ufrj.png)\n",
    "# Fundamentos de Ciência de Dados"
   ]
  },
  {
   "cell_type": "markdown",
   "metadata": {},
   "source": [
    "---\n",
    "# PPGI/UFRJ 2020.3\n",
    "## Prof Sergio Serra e Jorge Zavaleta"
   ]
  },
  {
   "cell_type": "markdown",
   "metadata": {},
   "source": [
    "# Módulo 2 - Numpy"
   ]
  },
  {
   "cell_type": "markdown",
   "metadata": {},
   "source": [
    "## Numpy\n",
    "\n",
    "Biblioteca para Computação científica com Python. Pode ser encontrada em [Numpy](https://numpy.org/doc/stable/). Esta biblioteca permite realizar operações eficientes em estruturas de dados usadas em aprendizado de máquina (*machine learning*): **vetores**, **matrizes** e **tensores**."
   ]
  },
  {
   "cell_type": "markdown",
   "metadata": {},
   "source": [
    "- Importando o pacote NUMPY"
   ]
  },
  {
   "cell_type": "code",
   "execution_count": 1,
   "metadata": {},
   "outputs": [
    {
     "name": "stdout",
     "output_type": "stream",
     "text": [
      "1.19.2\n"
     ]
    }
   ],
   "source": [
    "# importando o pacote\n",
    "import numpy as np\n",
    "# version do numpy\n",
    "print(np.version.version)"
   ]
  },
  {
   "cell_type": "markdown",
   "metadata": {},
   "source": [
    "- Vetores e matrizes de **n** dimensões: **ndarray**"
   ]
  },
  {
   "cell_type": "code",
   "execution_count": 2,
   "metadata": {},
   "outputs": [
    {
     "name": "stdout",
     "output_type": "stream",
     "text": [
      "v: <class 'list'>\n",
      "v1: <class 'numpy.ndarray'>\n",
      "v1 = [12 10 -1  4]\n"
     ]
    }
   ],
   "source": [
    "# exemplo - vetor\n",
    "v = [12, 10, -1, 4] # lista\n",
    "print('v:',type(v))\n",
    "# convertir uma lista em vetor\n",
    "v1 = np.array(v)\n",
    "print('v1:',type(v1))\n",
    "print('v1 =',v1)\n",
    "#v = [1,2,3 4]\n"
   ]
  },
  {
   "cell_type": "code",
   "execution_count": 3,
   "metadata": {},
   "outputs": [
    {
     "name": "stdout",
     "output_type": "stream",
     "text": [
      "v: [-1.   0.5 20.   4.  -2.  20. ]\n",
      "6\n"
     ]
    }
   ],
   "source": [
    "# criando um vetor fila ou linha\n",
    "vetor = np.array([-1, 0.5, 20, 4, -2.0, 20])\n",
    "print('v:',vetor)\n",
    "print(len(vetor))"
   ]
  },
  {
   "cell_type": "code",
   "execution_count": 4,
   "metadata": {},
   "outputs": [
    {
     "data": {
      "text/plain": [
       "array([[-1. ],\n",
       "       [ 0.5],\n",
       "       [20. ],\n",
       "       [ 4. ],\n",
       "       [-2. ]])"
      ]
     },
     "execution_count": 4,
     "metadata": {},
     "output_type": "execute_result"
    }
   ],
   "source": [
    "# criar vetor coluna\n",
    "vetor_c = np.array([[-1],[0.5],[20],[4],[-2.0]])\n",
    "vetor_c"
   ]
  },
  {
   "cell_type": "code",
   "execution_count": 5,
   "metadata": {},
   "outputs": [
    {
     "data": {
      "text/plain": [
       "array([[ 4,  6,  2],\n",
       "       [ 8, -1,  0],\n",
       "       [ 3,  4,  5]])"
      ]
     },
     "execution_count": 5,
     "metadata": {},
     "output_type": "execute_result"
    }
   ],
   "source": [
    "# criando uma matriz\n",
    "matriz_3x3 = np.array([[4,6,2],[8,-1,0],[3,4,5]])\n",
    "matriz_3x3"
   ]
  },
  {
   "cell_type": "code",
   "execution_count": 6,
   "metadata": {},
   "outputs": [
    {
     "name": "stdout",
     "output_type": "stream",
     "text": [
      "T: 3\n",
      "D: (3, 3)\n"
     ]
    }
   ],
   "source": [
    "# funcoes: len e shape\n",
    "# tamanho do vetor/matriz:len()\n",
    "print('T:',len(matriz_3x3))\n",
    "# dimesoes do vetor/matriz: shape\n",
    "print('D:',matriz_3x3.shape)"
   ]
  },
  {
   "cell_type": "code",
   "execution_count": 7,
   "metadata": {},
   "outputs": [
    {
     "name": "stdout",
     "output_type": "stream",
     "text": [
      "[[ 1 -1]\n",
      " [ 3 -2]\n",
      " [ 4  2]]\n",
      "Tam = 3\n",
      "Dim = 2\n",
      "Dim = (3, 2)\n"
     ]
    }
   ],
   "source": [
    "# exemplo de tamanho e dimensao\n",
    "A = np.array([[1,-1],[3, -2],[4,2]])\n",
    "print(A)\n",
    "print('Tam =',len(A)) #tamanho \n",
    "print('Dim =',A.ndim) #dimensoes\n",
    "print('Dim =',A.shape) # dimensoes(fila, coluna)  "
   ]
  },
  {
   "cell_type": "markdown",
   "metadata": {},
   "source": [
    "### Métodos\n",
    "\n",
    "- **narray.ndim** - Dimensões do *array*\n",
    "- **narray.shape** - Número de elementos em cada dimensão no array, (n,m)\n",
    "- **narray.size** - Tamanho do array (total de elementos), nxm\n",
    "- **narray.reshape** - Redimensão do array nxm"
   ]
  },
  {
   "cell_type": "code",
   "execution_count": 8,
   "metadata": {},
   "outputs": [
    {
     "name": "stdout",
     "output_type": "stream",
     "text": [
      "T : 6\n",
      "B : [[ 1 -1  3]\n",
      " [-2  4  2]]\n",
      "[[ 1 -1  3 -2  4  2]]\n",
      "[[ 1]\n",
      " [-1]\n",
      " [ 3]\n",
      " [-2]\n",
      " [ 4]\n",
      " [ 2]]\n"
     ]
    }
   ],
   "source": [
    "# exemplo de size\n",
    "print('T :',A.size)\n",
    "B = A.reshape(2,3)\n",
    "print('B :',B)\n",
    "BB = A.reshape(1,6)\n",
    "print(BB)\n",
    "B1 = A.reshape(6,1)\n",
    "print(B1)"
   ]
  },
  {
   "cell_type": "code",
   "execution_count": 9,
   "metadata": {},
   "outputs": [
    {
     "data": {
      "text/plain": [
       "(3, 3)"
      ]
     },
     "execution_count": 9,
     "metadata": {},
     "output_type": "execute_result"
    }
   ],
   "source": [
    "# exemplo: len, ndim, shape, size e reshape\n",
    "A1 = np.array( [ (1,2,3), (4,5,6), (2,7,8) ])\n",
    "A1.shape"
   ]
  },
  {
   "cell_type": "code",
   "execution_count": 10,
   "metadata": {},
   "outputs": [
    {
     "name": "stdout",
     "output_type": "stream",
     "text": [
      "[[[ 0  1  2  3  4]\n",
      "  [ 5  6  7  8  9]\n",
      "  [10 11 12 13 14]\n",
      "  [15 16 17 18 19]]\n",
      "\n",
      " [[20 21 22 23 24]\n",
      "  [25 26 27 28 29]\n",
      "  [30 31 32 33 34]\n",
      "  [35 36 37 38 39]]\n",
      "\n",
      " [[40 41 42 43 44]\n",
      "  [45 46 47 48 49]\n",
      "  [50 51 52 53 54]\n",
      "  [55 56 57 58 59]]]\n",
      "[[ 0  1  2]\n",
      " [ 3  4  5]\n",
      " [ 6  7  8]\n",
      " [ 9 10 11]\n",
      " [12 13 14]\n",
      " [15 16 17]\n",
      " [18 19 20]\n",
      " [21 22 23]\n",
      " [24 25 26]\n",
      " [27 28 29]\n",
      " [30 31 32]\n",
      " [33 34 35]\n",
      " [36 37 38]\n",
      " [39 40 41]\n",
      " [42 43 44]\n",
      " [45 46 47]\n",
      " [48 49 50]\n",
      " [51 52 53]\n",
      " [54 55 56]\n",
      " [57 58 59]]\n"
     ]
    }
   ],
   "source": [
    "# exemplo\n",
    "A2 = np.arange(60).reshape(3,4,5)\n",
    "print(A2)\n",
    "A11 = np.arange(60).reshape(20,3)\n",
    "print(A11)"
   ]
  },
  {
   "cell_type": "markdown",
   "metadata": {},
   "source": [
    "- Gerando valores com a função **linspace**"
   ]
  },
  {
   "cell_type": "code",
   "execution_count": 11,
   "metadata": {},
   "outputs": [
    {
     "name": "stdout",
     "output_type": "stream",
     "text": [
      "[50.         50.76923077 51.53846154 52.30769231 53.07692308 53.84615385\n",
      " 54.61538462 55.38461538 56.15384615 56.92307692 57.69230769 58.46153846\n",
      " 59.23076923 60.         60.76923077 61.53846154 62.30769231 63.07692308\n",
      " 63.84615385 64.61538462 65.38461538 66.15384615 66.92307692 67.69230769\n",
      " 68.46153846 69.23076923 70.         70.76923077 71.53846154 72.30769231\n",
      " 73.07692308 73.84615385 74.61538462 75.38461538 76.15384615 76.92307692\n",
      " 77.69230769 78.46153846 79.23076923 80.        ]\n"
     ]
    }
   ],
   "source": [
    "# Geracao devalores usando a funcao: linspace\n",
    "pesos_turma = np.linspace(50,80,num=40)\n",
    "print(pesos_turma)"
   ]
  },
  {
   "cell_type": "code",
   "execution_count": 12,
   "metadata": {},
   "outputs": [
    {
     "data": {
      "text/plain": [
       "array([[50.        , 50.76923077, 51.53846154, 52.30769231, 53.07692308,\n",
       "        53.84615385, 54.61538462, 55.38461538, 56.15384615, 56.92307692],\n",
       "       [57.69230769, 58.46153846, 59.23076923, 60.        , 60.76923077,\n",
       "        61.53846154, 62.30769231, 63.07692308, 63.84615385, 64.61538462],\n",
       "       [65.38461538, 66.15384615, 66.92307692, 67.69230769, 68.46153846,\n",
       "        69.23076923, 70.        , 70.76923077, 71.53846154, 72.30769231],\n",
       "       [73.07692308, 73.84615385, 74.61538462, 75.38461538, 76.15384615,\n",
       "        76.92307692, 77.69230769, 78.46153846, 79.23076923, 80.        ]])"
      ]
     },
     "execution_count": 12,
     "metadata": {},
     "output_type": "execute_result"
    }
   ],
   "source": [
    "# modificando a forma do vetor: reshape\n",
    "D2 = pesos_turma.reshape((4,10))\n",
    "D2"
   ]
  },
  {
   "cell_type": "markdown",
   "metadata": {},
   "source": [
    "## Indexação\n",
    "Visualizar algúm valor do array ou mudar em valor usando o índice de indexação."
   ]
  },
  {
   "cell_type": "code",
   "execution_count": 13,
   "metadata": {},
   "outputs": [
    {
     "name": "stdout",
     "output_type": "stream",
     "text": [
      "67.6923076923077\n",
      "50.0\n"
     ]
    }
   ],
   "source": [
    "# exemplo: Visializar o elemento 2,3 do matriz D2\n",
    "d23 = D2[2,3]\n",
    "print(d23)\n",
    "d00 = D2[0,0]\n",
    "print(d00)"
   ]
  },
  {
   "cell_type": "code",
   "execution_count": 14,
   "metadata": {},
   "outputs": [
    {
     "name": "stdout",
     "output_type": "stream",
     "text": [
      "-1.0\n",
      "[[50.         50.76923077 51.53846154 52.30769231 53.07692308 53.84615385\n",
      "  54.61538462 55.38461538 56.15384615 56.92307692]\n",
      " [57.69230769 58.46153846 59.23076923 60.         60.76923077 61.53846154\n",
      "  62.30769231 63.07692308 63.84615385 64.61538462]\n",
      " [65.38461538 66.15384615 66.92307692 -1.         68.46153846 69.23076923\n",
      "  70.         70.76923077 71.53846154 72.30769231]\n",
      " [73.07692308 73.84615385 74.61538462 75.38461538 76.15384615 76.92307692\n",
      "  77.69230769 78.46153846 79.23076923 80.        ]]\n"
     ]
    }
   ],
   "source": [
    "# exemplo: mudar o valor do elemento d23 = -1.0\n",
    "D2[2,3] = -1.0\n",
    "d23 = D2[2,3]\n",
    "print(d23)\n",
    "print(D2)"
   ]
  },
  {
   "cell_type": "code",
   "execution_count": 15,
   "metadata": {},
   "outputs": [
    {
     "data": {
      "text/plain": [
       "array([[ True,  True,  True,  True,  True,  True,  True,  True,  True,\n",
       "         True],\n",
       "       [ True,  True,  True,  True,  True,  True,  True,  True,  True,\n",
       "         True],\n",
       "       [ True,  True,  True, False,  True,  True,  True,  True,  True,\n",
       "         True],\n",
       "       [ True,  True,  True,  True,  True,  True,  True,  True,  True,\n",
       "         True]])"
      ]
     },
     "execution_count": 15,
     "metadata": {},
     "output_type": "execute_result"
    }
   ],
   "source": [
    "# verificando condicoes\n",
    "C = D2 > 10\n",
    "C"
   ]
  },
  {
   "cell_type": "code",
   "execution_count": 16,
   "metadata": {},
   "outputs": [
    {
     "data": {
      "text/plain": [
       "array([[ 2.,  2.,  2.,  2.,  2.,  2.,  2.,  2.,  2.,  2.],\n",
       "       [ 2.,  2.,  2.,  2.,  2.,  2.,  2.,  2.,  2.,  2.],\n",
       "       [ 2.,  2.,  2., -1.,  2.,  2.,  2.,  2.,  2.,  2.],\n",
       "       [ 2.,  2.,  2.,  2.,  2.,  2.,  2.,  2.,  2.,  2.]])"
      ]
     },
     "execution_count": 16,
     "metadata": {},
     "output_type": "execute_result"
    }
   ],
   "source": [
    "# condicoes para achar outliers e mudar\n",
    "D2[D2>4] = 2\n",
    "E = D2\n",
    "E"
   ]
  },
  {
   "cell_type": "markdown",
   "metadata": {},
   "source": [
    "### Manipulando valores que não existentes: nan"
   ]
  },
  {
   "cell_type": "code",
   "execution_count": 17,
   "metadata": {},
   "outputs": [
    {
     "data": {
      "text/plain": [
       "array([  0. ,  -2.1,   4. ,   6. ,  20. ,  30. , -10. ,   nan,   3. ,\n",
       "         5. ])"
      ]
     },
     "execution_count": 17,
     "metadata": {},
     "output_type": "execute_result"
    }
   ],
   "source": [
    "# valores de um arquivo\n",
    "X = np.array([0,-2.10, 4, 6, 20, 30, -10, np.NAN, 3, 5]) #\n",
    "X"
   ]
  },
  {
   "cell_type": "code",
   "execution_count": 18,
   "metadata": {},
   "outputs": [
    {
     "name": "stdout",
     "output_type": "stream",
     "text": [
      "[False False False False False False False  True False False]\n"
     ]
    }
   ],
   "source": [
    "# verificando se existe algum valor nao numerico\n",
    "Y = np.isnan(X)\n",
    "print(Y)"
   ]
  },
  {
   "cell_type": "code",
   "execution_count": 19,
   "metadata": {},
   "outputs": [
    {
     "name": "stdout",
     "output_type": "stream",
     "text": [
      "[  0.   -2.1   4.    6.   20.   30.  -10.    3.    5. ]\n"
     ]
    }
   ],
   "source": [
    "# exemplo: eleminar o elemento indesejado de um vetor\n",
    "X = X[~np.isnan(X)]\n",
    "print(X)"
   ]
  },
  {
   "cell_type": "code",
   "execution_count": 20,
   "metadata": {},
   "outputs": [
    {
     "data": {
      "text/plain": [
       "array([[ 1. ,  2. ,  nan],\n",
       "       [ nan, -1. ,  0.5],\n",
       "       [ 1. ,  2. ,  4. ]])"
      ]
     },
     "execution_count": 20,
     "metadata": {},
     "output_type": "execute_result"
    }
   ],
   "source": [
    "# exemplo: eleiminar um elemento indesejado de uma matriz\n",
    "M = np.array([[1, 2, np.NAN],[np.NAN, -1, 0.5],[1, 2, 4]])\n",
    "M"
   ]
  },
  {
   "cell_type": "code",
   "execution_count": 21,
   "metadata": {},
   "outputs": [
    {
     "name": "stdout",
     "output_type": "stream",
     "text": [
      "[[False False  True]\n",
      " [ True False False]\n",
      " [False False False]]\n"
     ]
    }
   ],
   "source": [
    "# verificando a existencia de valores indesejados\n",
    "Y1 = np.isnan(M)\n",
    "print(Y1)"
   ]
  },
  {
   "cell_type": "code",
   "execution_count": 22,
   "metadata": {},
   "outputs": [
    {
     "name": "stdout",
     "output_type": "stream",
     "text": [
      "(3, 3)\n",
      "nan\n",
      "nan\n",
      "[[ 1.   2.  10. ]\n",
      " [10.  -1.   0.5]\n",
      " [ 1.   2.   4. ]]\n"
     ]
    }
   ],
   "source": [
    "# eliminar os elementos indesejandos\n",
    "print(Y1.shape)\n",
    "print(M[0,2])\n",
    "M[0,2] = 10\n",
    "print(M[1,0])\n",
    "M[1,0] = 10\n",
    "print(M)"
   ]
  },
  {
   "cell_type": "code",
   "execution_count": 23,
   "metadata": {},
   "outputs": [
    {
     "name": "stdout",
     "output_type": "stream",
     "text": [
      "M1 : [[ 1.   2.   nan]\n",
      " [ nan -1.   0.5]\n",
      " [ 1.   2.   4. ]]\n",
      "In: [[False False  True]\n",
      " [ True False False]\n",
      " [False False False]]\n"
     ]
    }
   ],
   "source": [
    "M1 = np.array([[1, 2, np.NAN],[np.NAN, -1, 0.5],[1, 2, 4]])\n",
    "print('M1 :',M1)\n",
    "print('In:',np.isnan(M1))"
   ]
  },
  {
   "cell_type": "code",
   "execution_count": 24,
   "metadata": {},
   "outputs": [
    {
     "name": "stdout",
     "output_type": "stream",
     "text": [
      "M1: [[ 1.   2.  10. ]\n",
      " [10.  -1.   0.5]\n",
      " [ 1.   2.   4. ]]\n"
     ]
    }
   ],
   "source": [
    "# mudando o valor de um elemento\n",
    "(l,c) = M1.shape # dimensoes da matriz\n",
    "for L in range(l):\n",
    "    for C in range(c):\n",
    "        MT = np.isnan(M1)\n",
    "        if MT[L,C]==True:\n",
    "            M1[L,C] = 10\n",
    "print('M1:',M1)"
   ]
  },
  {
   "cell_type": "markdown",
   "metadata": {},
   "source": [
    "### Fatiando um vetor/matriz"
   ]
  },
  {
   "cell_type": "code",
   "execution_count": null,
   "metadata": {},
   "outputs": [],
   "source": [
    "# usando a funcao: slice\n",
    "print('M1:')\n",
    "print(M1)\n",
    "print()\n",
    "# slice primeira linha\n",
    "print('L1:',M1[0,:])"
   ]
  },
  {
   "cell_type": "code",
   "execution_count": null,
   "metadata": {},
   "outputs": [],
   "source": [
    "# slice a segunda linha ou fila\n",
    "print('L2:',M1[1,:])"
   ]
  },
  {
   "cell_type": "code",
   "execution_count": null,
   "metadata": {},
   "outputs": [],
   "source": [
    "# slice a primeira coluna\n",
    "print('C0:',M1[:,0])"
   ]
  },
  {
   "cell_type": "code",
   "execution_count": null,
   "metadata": {},
   "outputs": [],
   "source": [
    "# slice a ultima coluna\n",
    "print('C0:',M1[:,2])"
   ]
  },
  {
   "cell_type": "code",
   "execution_count": null,
   "metadata": {},
   "outputs": [],
   "source": [
    "# slice = toda a matriz\n",
    "print('M1',M1[:,:])"
   ]
  },
  {
   "cell_type": "code",
   "execution_count": null,
   "metadata": {},
   "outputs": [],
   "source": [
    "# slice para usa submatriz\n",
    "sm = M1[1:,2:]\n",
    "print(sm)"
   ]
  },
  {
   "cell_type": "code",
   "execution_count": null,
   "metadata": {},
   "outputs": [],
   "source": [
    "# slice para submatriz\n",
    "sm1 = M1[1:,:2]\n",
    "print(sm1)"
   ]
  },
  {
   "cell_type": "code",
   "execution_count": null,
   "metadata": {},
   "outputs": [],
   "source": [
    "# usando a funcao:copy\n",
    "C1 = np.array([[1],[2],[1]])\n",
    "C2 = C1\n",
    "# mudar um valor de C2\n",
    "print(C1)\n",
    "C2[0,0]=-10\n",
    "print('C2:')\n",
    "print(C2)\n",
    "# Visualizar mudancas no C1\n",
    "print('C1:')\n",
    "print(C1)"
   ]
  },
  {
   "cell_type": "code",
   "execution_count": null,
   "metadata": {},
   "outputs": [],
   "source": [
    "# Usando a funcao Copy\n",
    "import copy\n",
    "C3 = copy.deepcopy(C2)\n",
    "print('C3:')\n",
    "print(C3)\n",
    "C3[0,0] = 1000\n",
    "print(C3)\n",
    "print(C2)"
   ]
  },
  {
   "cell_type": "markdown",
   "metadata": {},
   "source": [
    "### Criando matrizes de pontos uniformemente espaçados com linspace()"
   ]
  },
  {
   "cell_type": "code",
   "execution_count": null,
   "metadata": {},
   "outputs": [],
   "source": [
    "# criando matrizes\n",
    "P = np.linspace(0,5,50)\n",
    "Q = np.linspace(5,11,50)\n",
    "print(P)\n",
    "print(Q)\n",
    "print(len(P))\n",
    "print(len(Q))"
   ]
  },
  {
   "cell_type": "code",
   "execution_count": null,
   "metadata": {},
   "outputs": [],
   "source": [
    "XX = P + Q\n",
    "print(XX)\n",
    "pp = P*Q\n",
    "print(pp)"
   ]
  },
  {
   "cell_type": "markdown",
   "metadata": {},
   "source": [
    "### zeros()"
   ]
  },
  {
   "cell_type": "code",
   "execution_count": null,
   "metadata": {},
   "outputs": [],
   "source": [
    "# cria matriz de zeros\n",
    "z = np.zeros((10,10))\n",
    "z"
   ]
  },
  {
   "cell_type": "code",
   "execution_count": null,
   "metadata": {},
   "outputs": [],
   "source": [
    "z1 = np.zeros((3,3),dtype=complex)\n",
    "z1"
   ]
  },
  {
   "cell_type": "code",
   "execution_count": null,
   "metadata": {},
   "outputs": [],
   "source": [
    "z2 = np.zeros((3,3),dtype=complex)\n",
    "z2"
   ]
  },
  {
   "cell_type": "markdown",
   "metadata": {},
   "source": [
    "### ones()"
   ]
  },
  {
   "cell_type": "code",
   "execution_count": null,
   "metadata": {},
   "outputs": [],
   "source": [
    "o = np.ones((4,4))\n",
    "o"
   ]
  },
  {
   "cell_type": "code",
   "execution_count": null,
   "metadata": {},
   "outputs": [],
   "source": [
    "os = np.ones((4,4),dtype=complex)\n",
    "os"
   ]
  },
  {
   "cell_type": "markdown",
   "metadata": {},
   "source": [
    "### eye()"
   ]
  },
  {
   "cell_type": "code",
   "execution_count": null,
   "metadata": {},
   "outputs": [],
   "source": [
    "# Matriz diagonal\n",
    "e = np.eye(3,k=0)\n",
    "e"
   ]
  },
  {
   "cell_type": "code",
   "execution_count": null,
   "metadata": {},
   "outputs": [],
   "source": [
    "# Matriz diagonal\n",
    "e1 = np.eye(3,k=-1)\n",
    "e1"
   ]
  },
  {
   "cell_type": "code",
   "execution_count": null,
   "metadata": {},
   "outputs": [],
   "source": [
    "# Matriz diagonal\n",
    "e2 = np.eye(3,k=-1)\n",
    "e2"
   ]
  },
  {
   "cell_type": "markdown",
   "metadata": {},
   "source": [
    "### Matriz identidade"
   ]
  },
  {
   "cell_type": "code",
   "execution_count": null,
   "metadata": {},
   "outputs": [],
   "source": [
    "# matriz identidade\n",
    "i = np.identity(5)\n",
    "i"
   ]
  },
  {
   "cell_type": "code",
   "execution_count": null,
   "metadata": {},
   "outputs": [],
   "source": [
    "# preenche dados especificos\n",
    "f = np.full((3,3),3.14,dtype=float)\n",
    "f"
   ]
  },
  {
   "cell_type": "markdown",
   "metadata": {},
   "source": [
    "### Numeros Aleatórios"
   ]
  },
  {
   "cell_type": "code",
   "execution_count": null,
   "metadata": {},
   "outputs": [],
   "source": [
    "# numero aleatorios: vetor\n",
    "r = np.random.rand(4)\n",
    "r"
   ]
  },
  {
   "cell_type": "code",
   "execution_count": null,
   "metadata": {},
   "outputs": [],
   "source": [
    "# numero aleatorios: matriz\n",
    "r1 = np.random.rand(4,4)\n",
    "r1"
   ]
  },
  {
   "cell_type": "code",
   "execution_count": null,
   "metadata": {},
   "outputs": [],
   "source": [
    "# numero aleatorios inteiros\n",
    "r2 = np.random.randint(0,5,3)\n",
    "r2"
   ]
  },
  {
   "cell_type": "markdown",
   "metadata": {},
   "source": [
    "### Estátistica básica"
   ]
  },
  {
   "cell_type": "code",
   "execution_count": null,
   "metadata": {},
   "outputs": [],
   "source": [
    "# exemplo: narray\n",
    "peso_kg = np.linspace(55,90,num=40)\n",
    "print('Peso em Kg:')\n",
    "print(peso_kg)"
   ]
  },
  {
   "cell_type": "code",
   "execution_count": null,
   "metadata": {},
   "outputs": [],
   "source": [
    "# funcoes estatisticas\n",
    "# media aritmetica\n",
    "media = peso_kg.mean()\n",
    "print('Média da turma :',media)\n",
    "# maximo\n",
    "maximo = peso_kg.max()\n",
    "print('Máximo da turma :',maximo)\n",
    "# minimo\n",
    "minimo = peso_kg.min()\n",
    "print('Mínimo da turma :',minimo)\n",
    "# somatorio\n",
    "soma = peso_kg.sum()\n",
    "print('Somatorio dos valores da turma :',soma)\n",
    "# desvio padrao\n",
    "desv = peso_kg.std()\n",
    "print('Desvio padrão dos valores da turma :',desv)\n",
    "vart = peso_kg.var()\n",
    "print('Variância dos valores da turma :',vart)"
   ]
  },
  {
   "cell_type": "markdown",
   "metadata": {},
   "source": [
    "**Observação**: Para variância e desvio padrão de amostras, acrescentar ddof=1 (delta degrees of freedom)"
   ]
  },
  {
   "cell_type": "code",
   "execution_count": null,
   "metadata": {},
   "outputs": [],
   "source": [
    "desv1 = peso_kg.std(ddof=1)\n",
    "print('Desvio padrão dos valores da turma :',desv1)\n",
    "vart1 = peso_kg.var(ddof=1)\n",
    "print('Variância dos valores da turma :',vart1)"
   ]
  },
  {
   "cell_type": "code",
   "execution_count": null,
   "metadata": {},
   "outputs": [],
   "source": [
    "# Histograma\n",
    "# importando a biblioteca para graficos\n",
    "from matplotlib import pyplot as plt  \n",
    "plt.hist(peso_kg, bins = [50, 60, 70, 80, 90, 100],color='r',alpha=0.3) \n",
    "plt.title(\"Numpy Histograma\")\n",
    "plt.xlabel('Peso da turma')\n",
    "plt.ylabel('Frequência')\n",
    "plt.grid(True)\n",
    "# show plot \n",
    "plt.show()"
   ]
  },
  {
   "cell_type": "code",
   "execution_count": null,
   "metadata": {},
   "outputs": [],
   "source": [
    "# cria uma sequenci de valores\n",
    "seq = np.random.randn(50)\n",
    "seq"
   ]
  },
  {
   "cell_type": "markdown",
   "metadata": {},
   "source": [
    "1. Exercicio. Usando o vetor seq, calcule todas as medidas estatísticas de tendencia central e apresente o gráfico.\n",
    "2. Cria vetor com 50 valores. \n",
    "    - verifique o comprimento, ndim, shape\n",
    "    - Convertir o vetor em matriz\n",
    "    - criar uma submatriz de 4x4\n",
    "    - Determinar as medidas estatísticas para o vetor\n",
    "    - Grafique o histograma do vetor"
   ]
  },
  {
   "cell_type": "markdown",
   "metadata": {},
   "source": [
    "---\n",
    "#### Fudamentos para Ciência Dados &copy; Copyright 2021, Sergio Serra & Jorge Zavaleta"
   ]
  }
 ],
 "metadata": {
  "kernelspec": {
   "display_name": "Python 3",
   "language": "python",
   "name": "python3"
  },
  "language_info": {
   "codemirror_mode": {
    "name": "ipython",
    "version": 3
   },
   "file_extension": ".py",
   "mimetype": "text/x-python",
   "name": "python",
   "nbconvert_exporter": "python",
   "pygments_lexer": "ipython3",
   "version": "3.8.5"
  }
 },
 "nbformat": 4,
 "nbformat_minor": 4
}
